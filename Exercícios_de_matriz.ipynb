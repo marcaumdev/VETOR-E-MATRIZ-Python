{
  "nbformat": 4,
  "nbformat_minor": 0,
  "metadata": {
    "colab": {
      "provenance": []
    },
    "kernelspec": {
      "name": "python3",
      "display_name": "Python 3"
    },
    "language_info": {
      "name": "python"
    }
  },
  "cells": [
    {
      "cell_type": "markdown",
      "source": [
        "1. Crie um vetor numpy com os números pares de 1 a 20. Dica: use np.arange()"
      ],
      "metadata": {
        "id": "ynFH_ms6q7W7"
      }
    },
    {
      "cell_type": "code",
      "execution_count": 1,
      "metadata": {
        "colab": {
          "base_uri": "https://localhost:8080/"
        },
        "id": "eYuczWCGq1QN",
        "outputId": "4d97a803-feab-4054-d649-aea00c4b3819"
      },
      "outputs": [
        {
          "output_type": "execute_result",
          "data": {
            "text/plain": [
              "array([ 0,  2,  4,  6,  8, 10, 12, 14, 16, 18])"
            ]
          },
          "metadata": {},
          "execution_count": 1
        }
      ],
      "source": [
        "import numpy as np\n",
        "\n",
        "pares = np.arange(0, 20, 2, dtype=int)\n",
        "\n",
        "pares"
      ]
    },
    {
      "cell_type": "markdown",
      "source": [
        "2. Crie uma matriz numpy 3x3 com valores aleatórios entre 0 e 10. Dica: use np.random.rand()"
      ],
      "metadata": {
        "id": "qaC6ZTsNw4PS"
      }
    },
    {
      "cell_type": "code",
      "source": [
        "matrizAleatoria = np.random.uniform(low=0, high=10, size=(3,3))\n",
        "matrizAleatoria\n",
        "\n",
        "## forma com int\n",
        "matrizAleatoriaInt = np.random.randint(low=0, high=10, size=(3,3))\n",
        "matrizAleatoriaInt\n"
      ],
      "metadata": {
        "colab": {
          "base_uri": "https://localhost:8080/"
        },
        "id": "IhCju9KQw312",
        "outputId": "54804a90-510d-499b-ae15-7b32ce41f820"
      },
      "execution_count": null,
      "outputs": [
        {
          "output_type": "stream",
          "name": "stdout",
          "text": [
            "[[5.22184745 9.56267449 3.57299324]\n",
            " [5.35102335 3.47796387 3.27739209]\n",
            " [8.17606871 1.24168649 7.33667963]]\n",
            "[[1 2 0]\n",
            " [6 0 3]\n",
            " [1 4 7]]\n"
          ]
        }
      ]
    },
    {
      "cell_type": "markdown",
      "source": [
        "3. Multiplique todos os elementos de um vetor por 2. Use broadcasting para evitar loop.\n",
        "\n",
        "Exemplo: Seja 'vetor = np.array([1, 2, 3, 4])'.\n",
        "\n",
        "O resultado esperado: 'array ([2, 4, 6, 8])'."
      ],
      "metadata": {
        "id": "Hw6a8E-M04XN"
      }
    },
    {
      "cell_type": "code",
      "source": [
        "vetor = np.array([1, 2, 3, 4])\n",
        "vetorX2 = vetor * 2\n",
        "\n",
        "vetorX2"
      ],
      "metadata": {
        "colab": {
          "base_uri": "https://localhost:8080/"
        },
        "id": "Oop3xIfIzvJ4",
        "outputId": "a99c3505-7246-466d-e04d-08e731ff4e05"
      },
      "execution_count": null,
      "outputs": [
        {
          "output_type": "stream",
          "name": "stdout",
          "text": [
            "[2 4 6 8]\n"
          ]
        }
      ]
    },
    {
      "cell_type": "markdown",
      "source": [
        "4. Calcule a soma cumulativa de um vetor. Dica: usar np.cumsum()\n",
        "\n",
        "Exemplo: Seja 'vetor = np.array([1, 2, 3, 4])', o resultado seria 'array([ 1, 3, 6, 10])'."
      ],
      "metadata": {
        "id": "ewiu-mVP1_qi"
      }
    },
    {
      "cell_type": "code",
      "source": [
        "vetor4 = np.array([1, 2, 3, 4])\n",
        "vetor4C = np.cumsum(vetor4)\n",
        "\n",
        "vetor4C"
      ],
      "metadata": {
        "colab": {
          "base_uri": "https://localhost:8080/"
        },
        "id": "G6kJcbWc2KDE",
        "outputId": "ab4cd83a-6e75-4645-a1a9-141f512a3a4d"
      },
      "execution_count": null,
      "outputs": [
        {
          "output_type": "stream",
          "name": "stdout",
          "text": [
            "[ 1  3  6 10]\n"
          ]
        }
      ]
    },
    {
      "cell_type": "markdown",
      "source": [
        "5. Transponha uma matriz.\n",
        "\n",
        "Exemplo: Seja `matriz = np.array([[1, 2], [3, 4], [5, 6]])`, o resultado seria `array([[1, 3,\n",
        "5], [2, 4, 6]])`"
      ],
      "metadata": {
        "id": "nZVE1TmJ2kxr"
      }
    },
    {
      "cell_type": "code",
      "source": [
        "matriz = np.array([[1, 2], [3, 4], [5, 6]])\n",
        "matrizT = np.transpose(matriz)\n",
        "\n",
        "matrizT"
      ],
      "metadata": {
        "colab": {
          "base_uri": "https://localhost:8080/"
        },
        "id": "km8uxAe42vSI",
        "outputId": "1878e822-9398-478f-f751-74b9c0353609"
      },
      "execution_count": null,
      "outputs": [
        {
          "output_type": "stream",
          "name": "stdout",
          "text": [
            "[[1 3 5]\n",
            " [2 4 6]]\n"
          ]
        }
      ]
    },
    {
      "cell_type": "markdown",
      "source": [
        "6. Converta uma matriz em um vetor unidimensional.\n",
        "\n",
        "Exemplo: Seja `matriz = np.array([[1, 2, 3], [4, 5, 6]])`, o resultado seria `array([1, 2, 3,\n",
        "4, 5, 6])`"
      ],
      "metadata": {
        "id": "2xocIEmu3FX5"
      }
    },
    {
      "cell_type": "code",
      "source": [
        "matriz6 = np.array([[1, 2, 3], [4, 5, 6]])\n",
        "matriz6Uni = np.reshape(matriz6, 6)\n",
        "matriz6Uni"
      ],
      "metadata": {
        "colab": {
          "base_uri": "https://localhost:8080/"
        },
        "id": "m9w4twuh3Koh",
        "outputId": "da13ba74-12f4-4685-abb5-dfc0951fee85"
      },
      "execution_count": null,
      "outputs": [
        {
          "output_type": "stream",
          "name": "stdout",
          "text": [
            "[1 2 3 4 5 6]\n"
          ]
        }
      ]
    },
    {
      "cell_type": "markdown",
      "source": [
        "7. Multiplicação matricial: multiplique uma matriz (m × n) por um vetor (n × 1).\n",
        "\n",
        "Exemplo: Seja `matriz = np.array([[1, 2], [3, 4]])` e `vetor = np.array([[5], [6]])`, o\n",
        "resultado seria `array([[17], [39]])`"
      ],
      "metadata": {
        "id": "IVevKIEL4uo8"
      }
    },
    {
      "cell_type": "code",
      "source": [
        "matriz7 = np.array([[1, 2], [3, 4]])\n",
        "vetor7 = np.array([[5], [6]])\n",
        "\n",
        "resultado7 = matriz7 @ vetor7\n",
        "\n",
        "resultado7"
      ],
      "metadata": {
        "colab": {
          "base_uri": "https://localhost:8080/"
        },
        "id": "ED8R4SQH4uXe",
        "outputId": "1c537dbd-70de-4725-ccf7-097c9b1961c8"
      },
      "execution_count": null,
      "outputs": [
        {
          "output_type": "stream",
          "name": "stdout",
          "text": [
            "[[17]\n",
            " [39]]\n"
          ]
        }
      ]
    },
    {
      "cell_type": "markdown",
      "source": [
        "8. Encontre os índices dos valores máximos em cada linha de uma matriz. Dica: use\n",
        "np.argmax().\n",
        "\n",
        "Exemplo: Seja `matriz = np.array([[1, 9, 6], [8, 2, 3], [4, 7, 5]])`, o resultado\n",
        "seria `array([1, 0, 1])`"
      ],
      "metadata": {
        "id": "VGiINBgK50ZH"
      }
    },
    {
      "cell_type": "code",
      "source": [
        "matriz8 = np.array([[1, 9, 6], [8, 2, 3], [4, 7, 5]])\n",
        "#axis = 0 // coluna || axis = 1 // linha\n",
        "matriz8MaxIndice = np.argmax(matriz8, axis=1)\n",
        "\n",
        "matriz8MaxIndice"
      ],
      "metadata": {
        "colab": {
          "base_uri": "https://localhost:8080/"
        },
        "id": "ShrP5Jw154rj",
        "outputId": "8897a42c-c0c9-4551-ffad-42d6592f9dd6"
      },
      "execution_count": null,
      "outputs": [
        {
          "output_type": "stream",
          "name": "stdout",
          "text": [
            "[1 0 1]\n"
          ]
        }
      ]
    },
    {
      "cell_type": "markdown",
      "source": [
        "9. Calcule a raiz quadrada de todos os elementos de um vetor.\n",
        "\n",
        "\n",
        "Exemplo: Seja `vetor = np.array([4, 9, 16, 25])`, o resultado seria `array([2., 3., 4., 5.])`"
      ],
      "metadata": {
        "id": "R-PXkV1G6yIL"
      }
    },
    {
      "cell_type": "code",
      "source": [
        "vetor9 = np.array([4, 9, 16, 25])\n",
        "vetor9Raiz = np.sqrt(vetor9)\n",
        "\n",
        "vetor9Raiz"
      ],
      "metadata": {
        "colab": {
          "base_uri": "https://localhost:8080/"
        },
        "id": "XzkVpuXp6042",
        "outputId": "996aaa81-5353-41c5-cc15-ef70cb508085"
      },
      "execution_count": null,
      "outputs": [
        {
          "output_type": "stream",
          "name": "stdout",
          "text": [
            "[2. 3. 4. 5.]\n"
          ]
        }
      ]
    },
    {
      "cell_type": "markdown",
      "source": [
        "10. Substitua todos os valores negativos em um vetor por 0.\n",
        "\n",
        "Exemplo: Seja `vetor =\n",
        "np.array([-1, 2, -3, 4, -5])`, o resultado seria `array([0, 2, 0, 4, 0])`"
      ],
      "metadata": {
        "id": "ViBFBN_n8x-5"
      }
    },
    {
      "cell_type": "code",
      "source": [
        "vetor10 = np.array([-1, 2, -3, 4, -5])\n",
        "result10 = np.maximum(vetor10, 0)\n",
        "\n",
        "result10"
      ],
      "metadata": {
        "colab": {
          "base_uri": "https://localhost:8080/"
        },
        "id": "4g7VG0v481TI",
        "outputId": "c0ccb0e6-2943-47cd-b6dc-ecef2c2e1e27"
      },
      "execution_count": null,
      "outputs": [
        {
          "output_type": "execute_result",
          "data": {
            "text/plain": [
              "array([0, 2, 0, 4, 0])"
            ]
          },
          "metadata": {},
          "execution_count": 87
        }
      ]
    },
    {
      "cell_type": "markdown",
      "source": [
        "11. Reshape um vetor unidimensional em uma matriz 3x3.\n",
        "\n",
        "Exemplo: Seja `vetor =\n",
        "np.array([1, 2, 3, 4, 5, 6, 7, 8, 9])`, o resultado seria `array([[1, 2, 3], [4, 5, 6], [7, 8, 9]])`"
      ],
      "metadata": {
        "id": "YsepBnIv9jNM"
      }
    },
    {
      "cell_type": "code",
      "source": [
        "vetor11 = np.array([1, 2, 3, 4, 5, 6, 7, 8, 9])\n",
        "vetor113x3 = np.reshape(vetor11, (3, 3))\n",
        "\n",
        "vetor113x3"
      ],
      "metadata": {
        "colab": {
          "base_uri": "https://localhost:8080/"
        },
        "id": "BSC_vQCh9i8o",
        "outputId": "cff20e24-06d1-4a82-f237-a26b35abaa26"
      },
      "execution_count": null,
      "outputs": [
        {
          "output_type": "stream",
          "name": "stdout",
          "text": [
            "[[1 2 3]\n",
            " [4 5 6]\n",
            " [7 8 9]]\n"
          ]
        }
      ]
    },
    {
      "cell_type": "markdown",
      "source": [
        "12. Adicione um valor constante a todos os elementos de um vetor.\n",
        "\n",
        "\n",
        "Exemplo: Seja `vetor = np.array([1, 2, 3, 4])` e `constante = 5`, o resultado seria\n",
        "`array([6, 7, 8, 9])`"
      ],
      "metadata": {
        "id": "13e6V2ou-A0P"
      }
    },
    {
      "cell_type": "code",
      "source": [
        "vetor12 = np.array([1, 2, 3, 4])\n",
        "constante = 5\n",
        "vetor12Constante = vetor12 + constante\n",
        "\n",
        "vetor12Constante"
      ],
      "metadata": {
        "colab": {
          "base_uri": "https://localhost:8080/"
        },
        "id": "ZZ772dHI-EIB",
        "outputId": "248e1d96-ffb5-4453-8fee-aa4cc55eef76"
      },
      "execution_count": null,
      "outputs": [
        {
          "output_type": "stream",
          "name": "stdout",
          "text": [
            "[6 7 8 9]\n"
          ]
        }
      ]
    },
    {
      "cell_type": "markdown",
      "source": [
        "13. Determine uma constante que ao multiplicar todos os elementos de uma matriz por\n",
        "essa constante, a soma dos elementos da matriz resultante será 1. Não usar loops.\n",
        "\n",
        "Exemplo: Seja `matriz = np.array([[1, 2], [3, 4]])`, o resultado seria `array([[0.1, 0.2], [0.3, 0.4]])`, pois 0.1+0.2+0.3+0.4 = 1."
      ],
      "metadata": {
        "id": "UqmDOejO-WwT"
      }
    },
    {
      "cell_type": "code",
      "source": [
        "matriz13 = np.array([[1, 2], [3, 4]])\n",
        "soma = np.sum(matriz13)\n",
        "matriz13Constante = matriz13 * ( 1 / soma)\n",
        "\n",
        "matriz13Constante"
      ],
      "metadata": {
        "colab": {
          "base_uri": "https://localhost:8080/"
        },
        "id": "TXIyj_v_-igC",
        "outputId": "2bebe0e0-cee6-407b-9986-f4f74f613175"
      },
      "execution_count": null,
      "outputs": [
        {
          "output_type": "execute_result",
          "data": {
            "text/plain": [
              "array([[0.1, 0.2],\n",
              "       [0.3, 0.4]])"
            ]
          },
          "metadata": {},
          "execution_count": 60
        }
      ]
    },
    {
      "cell_type": "markdown",
      "source": [
        "14. Gere uma matriz identidade 3x3. Dica: use np.eye()"
      ],
      "metadata": {
        "id": "GbtqjBszKkUX"
      }
    },
    {
      "cell_type": "code",
      "source": [
        "matriz14 = np.eye(3,3)\n",
        "matriz14"
      ],
      "metadata": {
        "colab": {
          "base_uri": "https://localhost:8080/"
        },
        "id": "lrAEzGYfJEhB",
        "outputId": "ba9803ee-390f-4998-d224-12bb3121fa66"
      },
      "execution_count": null,
      "outputs": [
        {
          "output_type": "execute_result",
          "data": {
            "text/plain": [
              "array([[1., 0., 0.],\n",
              "       [0., 1., 0.],\n",
              "       [0., 0., 1.]])"
            ]
          },
          "metadata": {},
          "execution_count": 51
        }
      ]
    },
    {
      "cell_type": "markdown",
      "source": [
        "15. Concatene duas matrizes horizontalmente. Dica: use np.hstack()\n",
        "Exemplo:"
      ],
      "metadata": {
        "id": "rWOQST9R_Vd0"
      }
    },
    {
      "cell_type": "code",
      "source": [
        "matriz1 = [[1, 2, 3],\n",
        "           [4, 5, 6]]\n",
        "matriz2 = [[7, 8, 9],\n",
        "           [10, 11, 12]]\n",
        "matriz3 = np.hstack((matriz1, matriz2))\n",
        "\n",
        "matriz3"
      ],
      "metadata": {
        "colab": {
          "base_uri": "https://localhost:8080/"
        },
        "id": "P6SGMnboLBtR",
        "outputId": "8e6b3a78-f0ee-46af-8d66-67a46521016c"
      },
      "execution_count": null,
      "outputs": [
        {
          "output_type": "execute_result",
          "data": {
            "text/plain": [
              "array([[ 1,  2,  3,  7,  8,  9],\n",
              "       [ 4,  5,  6, 10, 11, 12]])"
            ]
          },
          "metadata": {},
          "execution_count": 55
        }
      ]
    },
    {
      "cell_type": "markdown",
      "source": [
        "16. Encontre o produto escalar entre os vetores [1, 2, 3] e [4, 5, 6]. Dica: use np.dot() e\n",
        "também o operador @ para conferir o outro resultado"
      ],
      "metadata": {
        "id": "jKUiOgMDMXdw"
      }
    },
    {
      "cell_type": "code",
      "source": [
        "vetor1 = [1, 2, 3]\n",
        "vetor2 = [4, 5, 6]\n",
        "\n",
        "resultado1 = np.dot(vetor1, vetor2)\n",
        "resultado1"
      ],
      "metadata": {
        "colab": {
          "base_uri": "https://localhost:8080/"
        },
        "id": "qZvo-02TMZ0n",
        "outputId": "beff21b6-4144-414f-b67e-b6f7a678cca9"
      },
      "execution_count": null,
      "outputs": [
        {
          "output_type": "execute_result",
          "data": {
            "text/plain": [
              "32"
            ]
          },
          "metadata": {},
          "execution_count": 58
        }
      ]
    },
    {
      "cell_type": "markdown",
      "source": [
        "17. Calcule a média e o desvio padrão de cada linha de uma matriz. Dica: use np.mean() e\n",
        "np.std().\n",
        "\n",
        "Exemplo: `matriz = np.array([[1, 2, 3], [4, 5, 6], [7, 8, 9]])`. O resultado deve ser:\n",
        "média por linha: [2. 5. 8.], desvio padrão por linha: [0.8165, 0.8165, 0.8165]"
      ],
      "metadata": {
        "id": "BSBjHRnsM_dt"
      }
    },
    {
      "cell_type": "code",
      "source": [
        "matriz17 = np.array([[1, 2, 3], [4, 5, 6], [7, 8, 9]])\n",
        "media17 = np.mean(matriz17, axis=1)\n",
        "desvio17 = np.std(matriz17, axis=1)\n",
        "print(matriz17)\n",
        "print(f\"média por linha: {media17}\")\n",
        "print(f\"desvio padrão por linha: {desvio17}\")"
      ],
      "metadata": {
        "colab": {
          "base_uri": "https://localhost:8080/"
        },
        "id": "Jr40TrGENDuQ",
        "outputId": "5f1abbe8-0b3a-41ab-d145-fe8eec56a9db"
      },
      "execution_count": null,
      "outputs": [
        {
          "output_type": "stream",
          "name": "stdout",
          "text": [
            "[[1 2 3]\n",
            " [4 5 6]\n",
            " [7 8 9]]\n",
            "média por linha: [2. 5. 8.]\n",
            "desvio padrão por linha: [0.81649658 0.81649658 0.81649658]\n"
          ]
        }
      ]
    },
    {
      "cell_type": "markdown",
      "source": [
        "18. Calcule a média e o desvio padrão de cada coluna de uma matriz. Dica: use np.mean()\n",
        "e np.std().\n",
        "\n",
        "Exemplo: matriz = np.array([[1, 2, 3], [4, 5, 6], [7, 8, 9]]). O resultado deve ser:\n",
        "média por coluna: [4. 5. 6.], desvio padrão por coluna: [2.4495, 2.4495, 2.4495]"
      ],
      "metadata": {
        "id": "fZn1MrIYPb-o"
      }
    },
    {
      "cell_type": "code",
      "source": [
        "matriz18 = np.array([[1, 2, 3], [4, 5, 6], [7, 8, 9]])\n",
        "media18 = np.mean(matriz18, axis=0)\n",
        "desvio18 = np.std(matriz18, axis=0)\n",
        "print(matriz18)\n",
        "print(f\"média por coluna: {media18}\")\n",
        "print(f\"desvio padrão por coluna: {desvio18}\")"
      ],
      "metadata": {
        "colab": {
          "base_uri": "https://localhost:8080/"
        },
        "id": "PnPXXqzhPftr",
        "outputId": "0b3550c4-0ec4-44bf-bbc1-6186dec3c70c"
      },
      "execution_count": null,
      "outputs": [
        {
          "output_type": "stream",
          "name": "stdout",
          "text": [
            "[[1 2 3]\n",
            " [4 5 6]\n",
            " [7 8 9]]\n",
            "média por coluna: [4. 5. 6.]\n",
            "desvio padrão por coluna: [2.44948974 2.44948974 2.44948974]\n"
          ]
        }
      ]
    },
    {
      "cell_type": "markdown",
      "source": [
        "19. Calcule a média de cada coluna de uma matriz e a subtraia da respectiva coluna.\n",
        "\n",
        "Exemplo: Seja `matriz = np.array([[1, 2, 3], [4, 5, 6], [7, 8, 9]])`, o resultado seria\n",
        "`array([[-3., -3., -3.], [ 0., 0., 0.], [ 3., 3., 3.]])`. Use broadcasting para evitar loops"
      ],
      "metadata": {
        "id": "QWRf6hLqPokn"
      }
    },
    {
      "cell_type": "code",
      "source": [
        "matriz19 = np.array([[1, 2, 3], [4, 5, 6], [7, 8, 9]])\n",
        "media19 = np.mean(matriz19, axis=0)\n",
        "broadcast19 = matriz19 - media19\n",
        "\n",
        "print(matriz19)\n",
        "print(f\"\\nmédia por coluna: {media19}\")\n",
        "print(f\"\\no resultado:\\n {broadcast19}\")"
      ],
      "metadata": {
        "colab": {
          "base_uri": "https://localhost:8080/"
        },
        "id": "EWptLCpZPqrU",
        "outputId": "8d2e4994-a1e5-48df-d4ac-26bb9cffdc52"
      },
      "execution_count": null,
      "outputs": [
        {
          "output_type": "stream",
          "name": "stdout",
          "text": [
            "[[1 2 3]\n",
            " [4 5 6]\n",
            " [7 8 9]]\n",
            "\n",
            "média por coluna: [4. 5. 6.]\n",
            "\n",
            "o resultado:\n",
            " [[-3. -3. -3.]\n",
            " [ 0.  0.  0.]\n",
            " [ 3.  3.  3.]]\n"
          ]
        }
      ]
    },
    {
      "cell_type": "markdown",
      "source": [
        "20. Calcule a média de cada linha de uma matriz e a subtraia da respectiva linha.\n",
        "\n",
        "Exemplo:\n",
        "Seja `matriz = np.array([[1, 2, 3], [4, 5, 6], [7, 8, 9]])`, o resultado seria `array([[-1., 0., 1.],\n",
        "[-1., 0., 1.], [-1., 0., 1.]])`. Use broadcasting para evitar loops"
      ],
      "metadata": {
        "id": "np4FQ7shQo3k"
      }
    },
    {
      "cell_type": "code",
      "source": [
        "matriz20 = np.array([[1, 2, 3], [4, 5, 6], [7, 8, 9]])\n",
        "media20 = np.mean(matriz20, axis=1)\n",
        "matriz20T = np.transpose(matriz20)\n",
        "broadcast20 = np.transpose(matriz20T - media20)\n",
        "\n",
        "print(matriz20)\n",
        "print(f\"\\nmédia por linha: {media20}\")\n",
        "print(f\"\\no resultado:\\n {broadcast20}\")"
      ],
      "metadata": {
        "colab": {
          "base_uri": "https://localhost:8080/"
        },
        "id": "yVvTrfcNQpi7",
        "outputId": "76cf0266-0ce2-4712-95fd-34e553f0ac43"
      },
      "execution_count": null,
      "outputs": [
        {
          "output_type": "stream",
          "name": "stdout",
          "text": [
            "[[1 2 3]\n",
            " [4 5 6]\n",
            " [7 8 9]]\n",
            "\n",
            "média por linha: [2. 5. 8.]\n",
            "\n",
            "o resultado:\n",
            " [[-1.  0.  1.]\n",
            " [-1.  0.  1.]\n",
            " [-1.  0.  1.]]\n"
          ]
        }
      ]
    },
    {
      "cell_type": "markdown",
      "source": [
        "21. Uma operação comum em ciência de dados ou aprendizado de máquina é a normalização dos dados. Os\n",
        "dados estão dispostos em uma matriz e cada característica de interesse ao longo das colunas. Por exemplo,\n",
        "uma matriz em que cada linha corresponde a uma pessoa, teremos a coluna das idades, a coluna das\n",
        "alturas, a coluna da renda mensal, etc. A normalização consiste em, para cada ponto na matriz, subtrair a\n",
        "média da coluna e dividir pelo desvio padrão da respectiva coluna.\n",
        "Normalize os dados da seguinte matriz X, onde cada linha corresponde a uma amostra (e.g. pessoa) e cada\n",
        "coluna corresponde a uma característica dela. Para normalizar os dados, você pode usar broadcasting para\n",
        "subtrair a média de cada coluna e dividir pelo desvio padrão, evitando a necessidade de loops explícitos.\n",
        "Dica: use os métodos mean(), std() para os cálculos da média e desvio padrão, respectivamente."
      ],
      "metadata": {
        "id": "RnKFQHgrSOGZ"
      }
    },
    {
      "cell_type": "code",
      "source": [
        "matrizX = np.array([[ 55, 1.72, 603 ], [ 54, 1.42, 646 ], [ 44, 1.89, 964 ], [ 38, 1.79, 529 ]])\n",
        "matrizXT = np.transpose(matrizX)\n",
        "mediaX = np.mean(matrizXT, axis=1)\n",
        "desvioX = np.std(matrizXT, axis=1)\n",
        "resultado = (matrizX - mediaX)/desvioX\n",
        "resultado"
      ],
      "metadata": {
        "colab": {
          "base_uri": "https://localhost:8080/"
        },
        "id": "65wo3bHbTUut",
        "outputId": "96d545c8-6763-4deb-f043-f4a59e0f2103"
      },
      "execution_count": null,
      "outputs": [
        {
          "output_type": "execute_result",
          "data": {
            "text/plain": [
              "array([[ 1.02338778,  0.08557469, -0.49654442],\n",
              "       [ 0.88223084, -1.62591903, -0.23773945],\n",
              "       [-0.5293385 ,  1.05542112,  1.67621359],\n",
              "       [-1.37628011,  0.48492322, -0.94192972]])"
            ]
          },
          "metadata": {},
          "execution_count": 101
        }
      ]
    },
    {
      "cell_type": "markdown",
      "source": [
        "22. Encontre a solução para o seguinte problema. Arredondar todos os valores em uma\n",
        "matriz para o inteiro mais próximo. Dica: analise np.floor(), np.ceil(), np.fix() e np.round()"
      ],
      "metadata": {
        "id": "6fgIoODwWNZv"
      }
    },
    {
      "cell_type": "code",
      "source": [
        "matriz22 = np.array([[ 1.2, 2.8, 3.5 ], [ 4.9, 5.1, 6.7 ], [ 7.3, 8.6, 9.2 ]])\n",
        "matriz22Arredondada = np.round(matriz22)\n",
        "matriz22Arredondada"
      ],
      "metadata": {
        "colab": {
          "base_uri": "https://localhost:8080/"
        },
        "id": "e2zMrLGIWN_b",
        "outputId": "cbfe6138-d315-4f88-e961-52ab8a13f7c4"
      },
      "execution_count": null,
      "outputs": [
        {
          "output_type": "execute_result",
          "data": {
            "text/plain": [
              "array([[1., 3., 4.],\n",
              "       [5., 5., 7.],\n",
              "       [7., 9., 9.]])"
            ]
          },
          "metadata": {},
          "execution_count": 103
        }
      ]
    },
    {
      "cell_type": "markdown",
      "source": [
        "23. Dada a matriz A, encontre sua inversa A^-1\n",
        ". Então, conprove que A A^-1 = I, onde I é a matriz identidade, com elementos da diagonal unitários e o restante zero."
      ],
      "metadata": {
        "id": "WXILva5hW10z"
      }
    },
    {
      "cell_type": "code",
      "source": [
        "matriz23A = np.array([[1, 3, 2], [5, 4, 6], [7, 8, 9]])\n",
        "matriz23AInv = np.linalg.inv(matriz23A)\n",
        "\n",
        "matriz23I = matriz23A @ matriz23AInv\n",
        "matriz23I"
      ],
      "metadata": {
        "colab": {
          "base_uri": "https://localhost:8080/"
        },
        "id": "fAGssa2MXIRB",
        "outputId": "fcb36e4f-d300-4619-a1c6-8c3660466b10"
      },
      "execution_count": null,
      "outputs": [
        {
          "output_type": "execute_result",
          "data": {
            "text/plain": [
              "array([[ 1.00000000e+00,  0.00000000e+00,  0.00000000e+00],\n",
              "       [-8.88178420e-16,  1.00000000e+00, -1.77635684e-15],\n",
              "       [ 4.44089210e-16,  3.55271368e-15,  1.00000000e+00]])"
            ]
          },
          "metadata": {},
          "execution_count": 111
        }
      ]
    },
    {
      "cell_type": "markdown",
      "source": [
        "24. Suponha que você seja um corretor imobiliário e deseja prever o preço de uma casa com base em diferentes características, como área construída, número de quartos, número de banheiros e idade da casa. Você coletou dados de venda de casas nos últimos seis meses e registrou essas características para cada venda.\n",
        "Os dados coletados estão disponíveis na forma de uma matriz, onde cada linha representa uma casa vendida e cada coluna representa uma característica. Além disso, você tem um vetor com os preços de venda correspondentes das casas.\n",
        "\n",
        "Tarefa: Encontrar os coeficientes ideais que relacionam as características das casas com os preços de venda. Em seguida, preveja o preço de uma nova casa com as seguintes características:\n",
        "- Área construída: 180 metros quadrados\n",
        "- Número de quartos: 3\n",
        "- Número de banheiros: 2\n",
        "- Idade da casa: 10 anos\n",
        "\n",
        "(Resposta: 355000)"
      ],
      "metadata": {
        "id": "PLTVLlX-ZL__"
      }
    },
    {
      "cell_type": "code",
      "source": [
        "casas = np.array([[ 150, 3, 2, 5 ], [ 200, 4, 3, 7 ], [ 180, 3, 2, 10 ], [ 170, 3, 2, 10 ], [ 220, 4, 3, 8 ], [ 190, 3, 2, 6 ]])\n",
        "casaNova = np.array([[ 180, 3, 2, 10 ]])\n",
        "valores = np.array([ 300000, 400000, 350000, 250000, 420000, 380000])\n",
        "\n",
        "X, residuals, _, _ = np.linalg.lstsq(casas, valores, rcond=None)\n",
        "\n",
        "print(\"X:\", np.round(X,2))\n",
        "\n",
        "estimado = casas @ X\n",
        "estimadoNova = casaNova @ X\n",
        "diferenca = (estimado - valores) / valores\n",
        "print(\"Estimado:\", np.round(estimado, 2))\n",
        "print(\"Estimado Casa Nova:\", np.round(estimadoNova, 2))\n",
        "print(\"Real:\", valores)\n",
        "print(\"(Estimado - Real)/Real:\", diferenca)"
      ],
      "metadata": {
        "id": "qeZRJ1tqZZLt",
        "colab": {
          "base_uri": "https://localhost:8080/"
        },
        "outputId": "25fb0e78-9edd-46aa-f4d7-ffaeca86438d"
      },
      "execution_count": null,
      "outputs": [
        {
          "output_type": "stream",
          "name": "stdout",
          "text": [
            "X: [  2561.29  -7050.4   -2109.52 -12445.55]\n",
            "Estimado: [296596.14 390609.83 311207.22 285594.28 429390.17 386602.36]\n",
            "Estimado Casa Nova: [311207.22]\n",
            "Real: [300000 400000 350000 250000 420000 380000]\n",
            "(Estimado - Real)/Real: [-0.01134619 -0.02347542 -0.11083652  0.1423771   0.02235754  0.01737464]\n"
          ]
        }
      ]
    }
  ]
}